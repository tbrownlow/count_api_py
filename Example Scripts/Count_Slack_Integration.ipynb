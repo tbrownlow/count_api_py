{
 "cells": [
  {
   "cell_type": "markdown",
   "metadata": {},
   "source": [
    "## Count+Slack Integration Example"
   ]
  },
  {
   "cell_type": "markdown",
   "metadata": {},
   "source": [
    "### In this example, we will create a Count visual, and run a script that will automatically send the new link into the Slack channel of our choosing. "
   ]
  },
  {
   "cell_type": "code",
   "execution_count": 3,
   "metadata": {},
   "outputs": [],
   "source": [
    "#Import libraries\n",
    "import pandas as pd\n",
    "import numpy as np\n",
    "from count_api import CountAPI\n",
    "import requests\n",
    "from slackclient import SlackClient\n",
    "from sqlalchemy import create_engine\n",
    "import time\n",
    "import warnings\n",
    "warnings.filterwarnings(\"ignore\")"
   ]
  },
  {
   "cell_type": "code",
   "execution_count": 4,
   "metadata": {},
   "outputs": [],
   "source": [
    "#Define your Count and Slack tokens\n",
    "#Count API Token found at: www.count.co/admin ->Advanced\n",
    "count_api_token=\"PASTE_TOKEN_HERE\"\n",
    "#To get Slack API Token, see the \"Count Slack Install.pdf\"\n",
    "slack_api_token = \"PASTE_TOKEN_HERE\""
   ]
  },
  {
   "cell_type": "code",
   "execution_count": null,
   "metadata": {},
   "outputs": [],
   "source": [
    "#Connect to datasource\n",
    "engine = create_engine('PASTE_DB_CONNECTION')\n",
    "conn = engine.connect()\n",
    "df = pd.read_sql_query('select * from \"sales_data\"', con=engine)"
   ]
  },
  {
   "cell_type": "code",
   "execution_count": null,
   "metadata": {},
   "outputs": [],
   "source": [
    "#Name your data and upload to Count\n",
    "title = \"Sales Data Q4\"\n",
    "count = CountAPI()\n",
    "count.setAPIToken(COUNT_API_TOKEN)\n",
    "table = count.upload(data = df.to_csv(), name = title)"
   ]
  },
  {
   "cell_type": "code",
   "execution_count": null,
   "metadata": {},
   "outputs": [],
   "source": [
    "#Create your visual\n",
    "if table:\n",
    "\n",
    "  [product_category] = [col for col in columns if col.name == 'Product Category']\n",
    "  [retailer_country] = [col for col in columns if col.name == 'Retailer Country']\n",
    "  [revenue] = [col for col in columns if col.name.startswith('Revenue')]\n",
    "  revenue.aggregate('sum')\n",
    "\n",
    "  visual = table.upload_visual(x = table['Product Category']\n",
    "                              ,y = table['Revenue']\n",
    "                              ,color = table['Retailer Country']\n",
    "                              ,aggregates = {'y':'sum'}\n",
    "                              ,chart_options = {'type':'bar'})\n",
    "else:\n",
    "  print(\"Could not create the table\")"
   ]
  },
  {
   "cell_type": "code",
   "execution_count": null,
   "metadata": {},
   "outputs": [],
   "source": [
    "#Post to Slack: \n",
    "def post_to_channel(visual, channel):\n",
    "  sc = SlackClient(SLACK_API_TOKEN)\n",
    "  sc.api_call(\n",
    "    \"chat.postMessage\",\n",
    "    channel=channel,\n",
    "    text=\"Morning team! Check out the latest sales figures - and be sure to dig deeper yourselves \\n\" + visual.url(),\n",
    "    attachments=[{\n",
    "            \"title\": title,\n",
    "            \"image_url\": visual.getPreview()\n",
    "        }]\n",
    "  )\n"
   ]
  },
  {
   "cell_type": "code",
   "execution_count": null,
   "metadata": {},
   "outputs": [],
   "source": [
    "post_to_channel(visual,\"PASTE_CHANNEL_HERE\")"
   ]
  }
 ],
 "metadata": {
  "kernelspec": {
   "display_name": "Python 3",
   "language": "python",
   "name": "python3"
  },
  "language_info": {
   "codemirror_mode": {
    "name": "ipython",
    "version": 3
   },
   "file_extension": ".py",
   "mimetype": "text/x-python",
   "name": "python",
   "nbconvert_exporter": "python",
   "pygments_lexer": "ipython3",
   "version": "3.6.5"
  }
 },
 "nbformat": 4,
 "nbformat_minor": 2
}
