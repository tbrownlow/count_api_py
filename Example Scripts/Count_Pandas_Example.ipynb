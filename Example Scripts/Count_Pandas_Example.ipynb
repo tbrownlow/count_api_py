{
 "cells": [
  {
   "cell_type": "code",
   "execution_count": 20,
   "metadata": {},
   "outputs": [],
   "source": [
    "#Credits and References\n",
    "#This code using CityBike API: http://api.citybik.es/v2/"
   ]
  },
  {
   "cell_type": "code",
   "execution_count": 21,
   "metadata": {},
   "outputs": [],
   "source": [
    "import pandas as pd\n",
    "import numpy as np\n",
    "from count_api import CountAPI\n",
    "import requests"
   ]
  },
  {
   "cell_type": "code",
   "execution_count": 22,
   "metadata": {},
   "outputs": [],
   "source": [
    "#Authenticate Count\n",
    "token = \"PASTE_TOKEN_HERE\"\n",
    "count = CountAPI()\n",
    "count.set_api_token(token)"
   ]
  },
  {
   "cell_type": "markdown",
   "metadata": {},
   "source": [
    "# Connect to City Bike API and see what cities are available"
   ]
  },
  {
   "cell_type": "code",
   "execution_count": 23,
   "metadata": {},
   "outputs": [],
   "source": [
    "url = \"http://api.citybik.es/v2/networks\"\n",
    "resp = requests.get(url)\n",
    "data = resp.json()"
   ]
  },
  {
   "cell_type": "code",
   "execution_count": 24,
   "metadata": {},
   "outputs": [],
   "source": [
    "#Turn json response into data frame\n",
    "companies = []\n",
    "ids = []\n",
    "cities = []\n",
    "country = []\n",
    "names = []\n",
    "for i in range(len(data['networks'])):\n",
    "    companies.append(data['networks'][i]['company'])\n",
    "    ids.append(data['networks'][i]['id'])\n",
    "    names.append(data['networks'][i]['name'])\n",
    "    cities.append(data['networks'][i]['location']['city'])\n",
    "    country.append(data['networks'][i]['location']['country'])\n",
    "df = pd.DataFrame({'name':names,'city':cities,'country':country,'company':companies,'id':ids})"
   ]
  },
  {
   "cell_type": "code",
   "execution_count": 25,
   "metadata": {},
   "outputs": [
    {
     "data": {
      "text/html": [
       "\n",
       "        <iframe\n",
       "            width=\"1000\"\n",
       "            height=\"1000\"\n",
       "            src=\"https://count.co/embed/Kzok4cHX0f3?v=pntnpBQNO_s&view=visual&type=bar&x_type=ordinal&y_type=linear&x=0&y=1\"\n",
       "            frameborder=\"0\"\n",
       "            allowfullscreen\n",
       "        ></iframe>\n",
       "        "
      ],
      "text/plain": [
       "<count_api.visual.visual.IFrame at 0x10bb000f0>"
      ]
     },
     "execution_count": 25,
     "metadata": {},
     "output_type": "execute_result"
    }
   ],
   "source": [
    "all_bikes = count.upload(data = df.to_csv(),name = 'All CityBikes')\n",
    "visual = all_bikes.upload_visual(x = all_bikes['country']\n",
    "                                ,y = all_bikes[0]\n",
    "                                ,aggregates = {'y':'distinct'}\n",
    "                                ,chart_options = {'type':'bar'})\n",
    "visual.embed()"
   ]
  },
  {
   "cell_type": "markdown",
   "metadata": {},
   "source": [
    "## London Bike Share Analysis"
   ]
  },
  {
   "cell_type": "code",
   "execution_count": 27,
   "metadata": {},
   "outputs": [],
   "source": [
    "london_df = pd.DataFrame()\n",
    "for bike_co in df[df['city']=='London']['id'][::-1]:\n",
    "    url = \"http://api.citybik.es/v2/networks/\"+bike_co\n",
    "    resp = requests.get(url)\n",
    "    data = resp.json()\n",
    "    temp_df = pd.DataFrame.from_dict(data['network']['stations'])\n",
    "    install_dates = []\n",
    "    for i in range(len(data['network']['stations'])):\n",
    "        try:\n",
    "            install_dates.append(data['network']['stations'][i]['extra']['installDate'])\n",
    "        except:\n",
    "            install_dates.append(pd.NaT)\n",
    "    temp_df['install_dates']= install_dates\n",
    "    temp_df['bike_co']= bike_co\n",
    "    london_df = london_df.append(temp_df,ignore_index = True, sort = False)"
   ]
  },
  {
   "cell_type": "code",
   "execution_count": 29,
   "metadata": {},
   "outputs": [
    {
     "data": {
      "text/html": [
       "<div>\n",
       "<style scoped>\n",
       "    .dataframe tbody tr th:only-of-type {\n",
       "        vertical-align: middle;\n",
       "    }\n",
       "\n",
       "    .dataframe tbody tr th {\n",
       "        vertical-align: top;\n",
       "    }\n",
       "\n",
       "    .dataframe thead th {\n",
       "        text-align: right;\n",
       "    }\n",
       "</style>\n",
       "<table border=\"1\" class=\"dataframe\">\n",
       "  <thead>\n",
       "    <tr style=\"text-align: right;\">\n",
       "      <th></th>\n",
       "      <th>empty_slots</th>\n",
       "      <th>extra</th>\n",
       "      <th>free_bikes</th>\n",
       "      <th>id</th>\n",
       "      <th>latitude</th>\n",
       "      <th>longitude</th>\n",
       "      <th>name</th>\n",
       "      <th>timestamp</th>\n",
       "      <th>install_dates</th>\n",
       "      <th>bike_co</th>\n",
       "    </tr>\n",
       "  </thead>\n",
       "  <tbody>\n",
       "    <tr>\n",
       "      <th>0</th>\n",
       "      <td>1</td>\n",
       "      <td>{'installDate': '', 'installed': True, 'locked...</td>\n",
       "      <td>22</td>\n",
       "      <td>6900a8774d4b47db2cd8c16b3488d4f2</td>\n",
       "      <td>51.541596</td>\n",
       "      <td>-0.125441</td>\n",
       "      <td>300235 - York Way, Kings Cross</td>\n",
       "      <td>2018-11-18T15:19:34.135000Z</td>\n",
       "      <td></td>\n",
       "      <td>santander-cycles</td>\n",
       "    </tr>\n",
       "    <tr>\n",
       "      <th>1</th>\n",
       "      <td>22</td>\n",
       "      <td>{'installDate': '', 'installed': True, 'locked...</td>\n",
       "      <td>3</td>\n",
       "      <td>fc0a260fc584c45809316ef2fbcd9ce7</td>\n",
       "      <td>51.516785</td>\n",
       "      <td>-0.104948</td>\n",
       "      <td>300220 - Farringdon Street, Holborn</td>\n",
       "      <td>2018-11-18T15:19:34.130000Z</td>\n",
       "      <td></td>\n",
       "      <td>santander-cycles</td>\n",
       "    </tr>\n",
       "    <tr>\n",
       "      <th>2</th>\n",
       "      <td>10</td>\n",
       "      <td>{'installDate': '1278947280000', 'installed': ...</td>\n",
       "      <td>9</td>\n",
       "      <td>7f3020118e56165ed8b2f61899edb971</td>\n",
       "      <td>51.529163</td>\n",
       "      <td>-0.109971</td>\n",
       "      <td>001023 - River Street , Clerkenwell</td>\n",
       "      <td>2018-11-18T15:19:27.681000Z</td>\n",
       "      <td>1278947280000</td>\n",
       "      <td>santander-cycles</td>\n",
       "    </tr>\n",
       "    <tr>\n",
       "      <th>3</th>\n",
       "      <td>7</td>\n",
       "      <td>{'installDate': '1278585780000', 'installed': ...</td>\n",
       "      <td>30</td>\n",
       "      <td>67e6c16bce05410ba4b1f0f5000726ea</td>\n",
       "      <td>51.499607</td>\n",
       "      <td>-0.197574</td>\n",
       "      <td>001018 - Phillimore Gardens, Kensington</td>\n",
       "      <td>2018-11-18T15:19:27.704000Z</td>\n",
       "      <td>1278585780000</td>\n",
       "      <td>santander-cycles</td>\n",
       "    </tr>\n",
       "    <tr>\n",
       "      <th>4</th>\n",
       "      <td>29</td>\n",
       "      <td>{'installDate': '1278240360000', 'installed': ...</td>\n",
       "      <td>3</td>\n",
       "      <td>2d1fd6bf5426f3dc34fae06f43f76f69</td>\n",
       "      <td>51.521284</td>\n",
       "      <td>-0.084606</td>\n",
       "      <td>001012 - Christopher Street, Liverpool Street</td>\n",
       "      <td>2018-11-18T15:19:27.709000Z</td>\n",
       "      <td>1278240360000</td>\n",
       "      <td>santander-cycles</td>\n",
       "    </tr>\n",
       "  </tbody>\n",
       "</table>\n",
       "</div>"
      ],
      "text/plain": [
       "  empty_slots                                              extra  free_bikes  \\\n",
       "0           1  {'installDate': '', 'installed': True, 'locked...          22   \n",
       "1          22  {'installDate': '', 'installed': True, 'locked...           3   \n",
       "2          10  {'installDate': '1278947280000', 'installed': ...           9   \n",
       "3           7  {'installDate': '1278585780000', 'installed': ...          30   \n",
       "4          29  {'installDate': '1278240360000', 'installed': ...           3   \n",
       "\n",
       "                                 id   latitude  longitude  \\\n",
       "0  6900a8774d4b47db2cd8c16b3488d4f2  51.541596  -0.125441   \n",
       "1  fc0a260fc584c45809316ef2fbcd9ce7  51.516785  -0.104948   \n",
       "2  7f3020118e56165ed8b2f61899edb971  51.529163  -0.109971   \n",
       "3  67e6c16bce05410ba4b1f0f5000726ea  51.499607  -0.197574   \n",
       "4  2d1fd6bf5426f3dc34fae06f43f76f69  51.521284  -0.084606   \n",
       "\n",
       "                                            name                    timestamp  \\\n",
       "0                 300235 - York Way, Kings Cross  2018-11-18T15:19:34.135000Z   \n",
       "1            300220 - Farringdon Street, Holborn  2018-11-18T15:19:34.130000Z   \n",
       "2            001023 - River Street , Clerkenwell  2018-11-18T15:19:27.681000Z   \n",
       "3        001018 - Phillimore Gardens, Kensington  2018-11-18T15:19:27.704000Z   \n",
       "4  001012 - Christopher Street, Liverpool Street  2018-11-18T15:19:27.709000Z   \n",
       "\n",
       "   install_dates           bike_co  \n",
       "0                 santander-cycles  \n",
       "1                 santander-cycles  \n",
       "2  1278947280000  santander-cycles  \n",
       "3  1278585780000  santander-cycles  \n",
       "4  1278240360000  santander-cycles  "
      ]
     },
     "execution_count": 29,
     "metadata": {},
     "output_type": "execute_result"
    }
   ],
   "source": [
    "london_df.head()"
   ]
  },
  {
   "cell_type": "code",
   "execution_count": 31,
   "metadata": {},
   "outputs": [],
   "source": [
    "london_df['install_dates']= pd.to_datetime(london_df['install_dates'],unit = 'ms')\n",
    "london_df['install_month']= pd.to_datetime(london_df['install_dates']).dt.month\n",
    "london_df['install_year']= pd.to_datetime(london_df['install_dates']).dt.year"
   ]
  },
  {
   "cell_type": "code",
   "execution_count": 35,
   "metadata": {},
   "outputs": [],
   "source": [
    "london_df = london_df.drop(['extra'],axis = 1)"
   ]
  },
  {
   "cell_type": "code",
   "execution_count": 36,
   "metadata": {},
   "outputs": [],
   "source": [
    "#The \"name\" field contains info about the neighbourhood; this could be useful\n",
    "def get_borough(name):\n",
    "    borough = name.split(\",\")[-1]\n",
    "    return borough"
   ]
  },
  {
   "cell_type": "code",
   "execution_count": 37,
   "metadata": {},
   "outputs": [],
   "source": [
    "london_df['borough']=london_df['name'].apply(get_borough)"
   ]
  },
  {
   "cell_type": "code",
   "execution_count": 38,
   "metadata": {},
   "outputs": [],
   "source": [
    "#Let's find which neighbourhood has the highest city bike usage rates\n",
    "london_df['usage_per']= 100*(london_df['empty_slots']/(london_df[['empty_slots','free_bikes']].sum(axis = 1)))"
   ]
  },
  {
   "cell_type": "code",
   "execution_count": 41,
   "metadata": {},
   "outputs": [],
   "source": [
    "new_cols = []\n",
    "for col in london_df.columns:\n",
    "    if \"_\" in col:\n",
    "        col = col.replace(\"_\",' ')\n",
    "    else:\n",
    "        col = col\n",
    "    new_cols.append(col)"
   ]
  },
  {
   "cell_type": "code",
   "execution_count": 42,
   "metadata": {},
   "outputs": [],
   "source": [
    "london_df.columns = new_cols"
   ]
  },
  {
   "cell_type": "code",
   "execution_count": 45,
   "metadata": {},
   "outputs": [],
   "source": [
    "#Generate a new table: \n",
    "stations_table = count.upload(data = london_df.to_csv(),name = \"London Bikes\")\n"
   ]
  },
  {
   "cell_type": "code",
   "execution_count": 46,
   "metadata": {},
   "outputs": [
    {
     "data": {
      "text/html": [
       "\n",
       "        <iframe\n",
       "            width=\"1000\"\n",
       "            height=\"1000\"\n",
       "            src=\"https://count.co/embed/k_HKf7LS3uF?v=M_szn9s3Kpt&view=visual&type=circle&x_type=linear&y_type=linear&size_type=linear&color_type=ordinal&x=0&y=1&size=2&color=3\"\n",
       "            frameborder=\"0\"\n",
       "            allowfullscreen\n",
       "        ></iframe>\n",
       "        "
      ],
      "text/plain": [
       "<count_api.visual.visual.IFrame at 0x10eab7320>"
      ]
     },
     "execution_count": 46,
     "metadata": {},
     "output_type": "execute_result"
    }
   ],
   "source": [
    "#Show map of London, size is larger for stations w/ more available bikes. Each station is colored by its borough (optional to change coloring to installation year)\n",
    "visual = stations_table.upload_visual(x = stations_table['longitude'],\n",
    "                                      y = stations_table['latitude']\n",
    "                                      ,size = stations_table['free bikes']\n",
    "                                      #,color = stations_table['install year']\n",
    "                                      ,color = stations_table['borough']\n",
    "                                      ,chart_options = {'type':'circle'})\n",
    "visual.embed()"
   ]
  },
  {
   "cell_type": "code",
   "execution_count": 52,
   "metadata": {},
   "outputs": [
    {
     "data": {
      "text/html": [
       "\n",
       "        <iframe\n",
       "            width=\"1000\"\n",
       "            height=\"1000\"\n",
       "            src=\"https://count.co/embed/k_HKf7LS3uF?v=gKxhs19u0L4&view=visual&type=bar&x_type=ordinal&y_type=linear&x=0&y=1\"\n",
       "            frameborder=\"0\"\n",
       "            allowfullscreen\n",
       "        ></iframe>\n",
       "        "
      ],
      "text/plain": [
       "<count_api.visual.visual.IFrame at 0x10d5af208>"
      ]
     },
     "execution_count": 52,
     "metadata": {},
     "output_type": "execute_result"
    }
   ],
   "source": [
    "#What are the boroughs w/ average usage rates over 85%\n",
    "visual = stations_table.upload_visual(x = stations_table['borough'], \n",
    "                                      y = stations_table['usage per']\n",
    "                                      ,aggregates = {'y':'avg'}\n",
    "                                      ,chart_options = {'type':'bar'},\n",
    "                                     filters = [stations_table['usage per'].filter(\">=\",85)])\n",
    "visual.embed()"
   ]
  },
  {
   "cell_type": "code",
   "execution_count": 47,
   "metadata": {},
   "outputs": [
    {
     "data": {
      "text/html": [
       "\n",
       "        <iframe\n",
       "            width=\"1000\"\n",
       "            height=\"1000\"\n",
       "            src=\"https://count.co/embed/k_HKf7LS3uF?v=-KmVELCWs_0&view=visual&type=bar&x_type=linear&y_type=linear&x=0&y=1\"\n",
       "            frameborder=\"0\"\n",
       "            allowfullscreen\n",
       "        ></iframe>\n",
       "        "
      ],
      "text/plain": [
       "<count_api.visual.visual.IFrame at 0x10bae85c0>"
      ]
     },
     "execution_count": 47,
     "metadata": {},
     "output_type": "execute_result"
    }
   ],
   "source": [
    "#What years were most of the stations installed?\n",
    "stations_visual = stations_table.upload_visual(x = stations_table['install year']\n",
    "                                               , y =stations_table[0]\n",
    "                                               ,aggregates = {'y':'distinct'}\n",
    "                                               ,chart_options = {'type':'bar'})\n",
    "\n",
    "stations_visual.embed()"
   ]
  },
  {
   "cell_type": "code",
   "execution_count": null,
   "metadata": {},
   "outputs": [],
   "source": []
  }
 ],
 "metadata": {
  "kernelspec": {
   "display_name": "Python 3",
   "language": "python",
   "name": "python3"
  },
  "language_info": {
   "codemirror_mode": {
    "name": "ipython",
    "version": 3
   },
   "file_extension": ".py",
   "mimetype": "text/x-python",
   "name": "python",
   "nbconvert_exporter": "python",
   "pygments_lexer": "ipython3",
   "version": "3.6.5"
  }
 },
 "nbformat": 4,
 "nbformat_minor": 2
}
